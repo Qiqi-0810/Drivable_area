{
 "cells": [
  {
   "cell_type": "code",
   "execution_count": 7,
   "metadata": {},
   "outputs": [
    {
     "name": "stdout",
     "output_type": "stream",
     "text": [
      "Requirement already satisfied: imageio in d:\\anaconda\\anaconda\\lib\\site-packages (2.6.0)\n",
      "Requirement already satisfied: pillow in d:\\anaconda\\anaconda\\lib\\site-packages (from imageio) (6.2.0)\n",
      "Requirement already satisfied: numpy in d:\\anaconda\\anaconda\\lib\\site-packages (from imageio) (1.19.2)\n",
      "Note: you may need to restart the kernel to use updated packages.\n"
     ]
    }
   ],
   "source": [
    "#modified from https://discuss.pytorch.org/t/how-to-calculate-the-mean-and-std-of-my-own-dataset/23584/3\n",
    "pip install imageio"
   ]
  },
  {
   "cell_type": "code",
   "execution_count": 12,
   "metadata": {},
   "outputs": [],
   "source": [
    "import os\n",
    "from PIL import Image\n",
    "import matplotlib.pyplot as plt\n",
    "import numpy as np\n",
    "import imageio\n",
    "\n",
    "filepath = 'E:/'\n",
    "pathDir = os.listdir(filepath)\n",
    "\n",
    "R_channel = 0\n",
    "G_channel = 0\n",
    "B_channel = 0\n",
    "\n",
    "for idx in range(len(pathDir)):\n",
    "    filename = pathDir[idx]\n",
    "    img = imageio.imread(os.path.join(filepath, filename))\n",
    "    R_channel = R_channel + np.sum(img[:, :, 0])\n",
    "    G_channel = G_channel + np.sum(img[:, :, 1])\n",
    "    B_channel = B_channel + np.sum(img[:, :, 2])\n",
    "\n",
    "num = len(pathDir)*1280*720\n",
    "R_mean = R_channel / num\n",
    "G_mean = G_channel / num\n",
    "B_mean = B_channel / num"
   ]
  },
  {
   "cell_type": "code",
   "execution_count": 13,
   "metadata": {},
   "outputs": [
    {
     "name": "stdout",
     "output_type": "stream",
     "text": [
      "75.32428351921894\n",
      "616855987217\n",
      "78.62519771220569\n",
      "643888287932\n",
      "77.81587906255079\n",
      "637260504284\n"
     ]
    }
   ],
   "source": [
    "print(R_mean)\n",
    "print(R_channel)\n",
    "print(G_mean) \n",
    "print(G_channel)\n",
    "print(B_mean)\n",
    "print(B_channel)"
   ]
  },
  {
   "cell_type": "code",
   "execution_count": 18,
   "metadata": {},
   "outputs": [],
   "source": [
    "import os\n",
    "from PIL import Image\n",
    "import matplotlib.pyplot as plt\n",
    "import numpy as np\n",
    "from scipy.misc import imread\n",
    "import math\n",
    "\n",
    "filepath = 'E:/'\n",
    "pathDir = os.listdir(filepath)\n",
    "\n",
    "R_total = 0\n",
    "G_total = 0\n",
    "B_total = 0\n",
    "\n",
    "total_pixel = 0\n",
    "\n",
    "for idx in range(len(pathDir)):\n",
    "    filename = pathDir[idx]\n",
    "    img = imageio.imread(os.path.join(filepath, filename))\n",
    "\n",
    "    total_pixel = total_pixel + img.shape[0] * img.shape[1]\n",
    "\n",
    "    R_total = R_total + np.sum((img[:, :, 0] - R_mean) ** 2)\n",
    "    G_total = G_total + np.sum((img[:, :, 1] - G_mean) ** 2)\n",
    "    B_total = B_total + np.sum((img[:, :, 2] - B_mean) ** 2)\n",
    "\n",
    "R_std = math.sqrt(R_total / total_pixel)\n",
    "G_std = math.sqrt(G_total / total_pixel)\n",
    "B_std = math.sqrt(B_total / total_pixel)"
   ]
  },
  {
   "cell_type": "code",
   "execution_count": 19,
   "metadata": {},
   "outputs": [
    {
     "name": "stdout",
     "output_type": "stream",
     "text": [
      "65.15112199785689\n",
      "69.25483484264728\n",
      "71.94638584709342\n"
     ]
    }
   ],
   "source": [
    "print(R_std)\n",
    "print(G_std) \n",
    "print(B_std)"
   ]
  },
  {
   "cell_type": "code",
   "execution_count": null,
   "metadata": {},
   "outputs": [],
   "source": []
  }
 ],
 "metadata": {
  "kernelspec": {
   "display_name": "Python 3",
   "language": "python",
   "name": "python3"
  },
  "language_info": {
   "codemirror_mode": {
    "name": "ipython",
    "version": 3
   },
   "file_extension": ".py",
   "mimetype": "text/x-python",
   "name": "python",
   "nbconvert_exporter": "python",
   "pygments_lexer": "ipython3",
   "version": "3.7.4"
  }
 },
 "nbformat": 4,
 "nbformat_minor": 2
}
