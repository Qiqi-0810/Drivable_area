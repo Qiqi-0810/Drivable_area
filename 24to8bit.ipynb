{
 "cells": [
  {
   "cell_type": "code",
   "execution_count": 8,
   "metadata": {},
   "outputs": [
    {
     "data": {
      "text/plain": [
       "'P'"
      ]
     },
     "execution_count": 8,
     "metadata": {},
     "output_type": "execute_result"
    }
   ],
   "source": [
    "from PIL import Image\n",
    "lena = Image.open('E:/BJTU/Graduate/Final/77data/labels/124.png')\n",
    "lena_P = lena.convert(\"P\")\n",
    "lena.mode"
   ]
  },
  {
   "cell_type": "code",
   "execution_count": 16,
   "metadata": {},
   "outputs": [],
   "source": [
    "from PIL import Image\n",
    "import os\n",
    "def to8bit(from_path,out_path):\n",
    "    dirs=os.listdir(from_path)\n",
    "    os.chdir(from_path)\n",
    "    for file in dirs:\n",
    "        image=Image.open(file)#不能用'1'模式直接打开？\n",
    "        image_P=image.convert(\"P\")\n",
    "        image.save(os.path.join(out_path, file))#可以不创建文件，但一定要创建文件夹\n",
    "    return     #return写到循环里面了 怪不得会只运行一次就退出\n",
    "\n",
    "to8bit('E:/BJTU/Graduate/Final/bdd100k/ann/train1','E:/BJTU/Graduate/Final/bdd100k/ann/train8')"
   ]
  },
  {
   "cell_type": "code",
   "execution_count": 3,
   "metadata": {},
   "outputs": [
    {
     "data": {
      "text/plain": [
       "'RGB'"
      ]
     },
     "execution_count": 3,
     "metadata": {},
     "output_type": "execute_result"
    }
   ],
   "source": [
    "from PIL import Image\n",
    "lena = Image.open('E:/BJTU/Graduate/Final/bdd100k/ann/val8/b1c9c847-3bda4659.png')\n",
    "lena.mode"
   ]
  },
  {
   "cell_type": "code",
   "execution_count": null,
   "metadata": {},
   "outputs": [],
   "source": [
    "from PIL import Image\n",
    "lena = Image.open('E:/BJTU/Graduate/Final/bdd100k/ann/val8/b1c9c847-3bda4659.png')\n",
    "lena_P = lena.convert(\"P\")\n",
    "lena.mode"
   ]
  }
 ],
 "metadata": {
  "kernelspec": {
   "display_name": "Python 3",
   "language": "python",
   "name": "python3"
  },
  "language_info": {
   "codemirror_mode": {
    "name": "ipython",
    "version": 3
   },
   "file_extension": ".py",
   "mimetype": "text/x-python",
   "name": "python",
   "nbconvert_exporter": "python",
   "pygments_lexer": "ipython3",
   "version": "3.7.4"
  }
 },
 "nbformat": 4,
 "nbformat_minor": 2
}
