{
 "cells": [
  {
   "cell_type": "code",
   "execution_count": 1,
   "metadata": {},
   "outputs": [],
   "source": [
    "from PIL import Image\n",
    "import os\n",
    "def toRGB(from_path,out_path):\n",
    "    dirs=os.listdir(from_path)\n",
    "    os.chdir(from_path)\n",
    "    for file in dirs:\n",
    "        image=Image.open(file)\n",
    "        image_P=image.convert(\"RGB\")#it could be RGB or P or any mode you need\n",
    "        image_P.save(os.path.join(out_path, file))\n",
    "    return     \n",
    "\n",
    "toRGB('E:/')"
   ]
  },
  {
   "cell_type": "code",
   "execution_count": 3,
   "metadata": {},
   "outputs": [],
   "source": [
    "import os.path as osp\n",
    "import numpy as np\n",
    "import os\n",
    "from PIL import Image\n",
    "palette = [[0, 0, 0], [255, 0, 0], [0, 0, 255]]\n",
    "def putpalette(from_path,out_path):\n",
    "    dirs=os.listdir(from_path)\n",
    "    os.chdir(from_path)\n",
    "    for file in dirs:\n",
    "        seg_map = Image.open(file)\n",
    "        seg_map.putpalette(np.array(palette, dtype=np.uint8))\n",
    "        seg_map.save(os.path.join(out_path, file))\n",
    "    return \n",
    "putpalette('E:/')"
   ]
  },
  {
   "cell_type": "code",
   "execution_count": 3,
   "metadata": {},
   "outputs": [
    {
     "name": "stdout",
     "output_type": "stream",
     "text": [
      "P\n"
     ]
    }
   ],
   "source": [
    "#look at the image mode and pixel value\n",
    "from PIL import Image\n",
    "q = Image.open('E:/.png')\n",
    "print(q.mode)"
   ]
  },
  {
   "cell_type": "code",
   "execution_count": 10,
   "metadata": {},
   "outputs": [
    {
     "name": "stdout",
     "output_type": "stream",
     "text": [
      "[0 1 2]\n"
     ]
    }
   ],
   "source": [
    "#check the value of label image to make sure class number in the model is correct\n",
    "from PIL import Image\n",
    "import numpy as np\n",
    "img = Image.open('E:/.png')\n",
    "img = np.array(img)\n",
    "print(np.unique(img))"
   ]
  },
  {
   "cell_type": "code",
   "execution_count": null,
   "metadata": {},
   "outputs": [],
   "source": []
  }
 ],
 "metadata": {
  "kernelspec": {
   "display_name": "Python 3",
   "language": "python",
   "name": "python3"
  },
  "language_info": {
   "codemirror_mode": {
    "name": "ipython",
    "version": 3
   },
   "file_extension": ".py",
   "mimetype": "text/x-python",
   "name": "python",
   "nbconvert_exporter": "python",
   "pygments_lexer": "ipython3",
   "version": "3.7.4"
  }
 },
 "nbformat": 4,
 "nbformat_minor": 2
}
