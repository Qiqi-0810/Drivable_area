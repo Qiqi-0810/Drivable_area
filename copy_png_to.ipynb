{
 "cells": [
  {
   "cell_type": "code",
   "execution_count": 1,
   "metadata": {},
   "outputs": [],
   "source": [
    "import os\n",
    "import random\n",
    "import shutil\n",
    "import re"
   ]
  },
  {
   "cell_type": "code",
   "execution_count": 6,
   "metadata": {},
   "outputs": [
    {
     "name": "stdout",
     "output_type": "stream",
     "text": [
      "E:/BJTU/Graduate/Final/vedio/images/Gaidong\n",
      "E:/BJTU/Graduate/Final/vedio/images/Gaidong\n"
     ]
    }
   ],
   "source": [
    "GT_from_PATH = \"E:/BJTU/Graduate/Final/vedio/images/Gaidong\"###\n",
    "GT_to_PATH = \"E:/BJTU/Graduate/Final/vedio/images/Gaidong\"\n",
    "print(GT_from_PATH)\n",
    "print(GT_to_PATH)"
   ]
  },
  {
   "cell_type": "code",
   "execution_count": 7,
   "metadata": {},
   "outputs": [],
   "source": [
    "def copy_file(from_dir, to_dir, Name_list):\n",
    "    if not os.path.isdir(to_dir):\n",
    "        os.mkdir(to_dir)\n",
    "    # 1\n",
    "    # name_list = os.listdir(from_dir)\n",
    " \n",
    "    # # 2\n",
    "    # sample = random.sample(pathDir, 2)\n",
    "    # print(sample)\n",
    "\n",
    "    # 3\n",
    "    for name in Name_list:\n",
    "        try:\n",
    "            # print(name)\n",
    "            if not os.path.isfile(os.path.join(from_dir)):\n",
    "                print(\"{} is not existed\".format(os.path.join(from_dir)))\n",
    "            shutil.copy(os.path.join(from_dir), os.path.join(to_dir, name))\n",
    "            # print(\"{} has copied to {}\".format(os.path.join(from_dir, name), os.path.join(to_dir, name)))\n",
    "        except:\n",
    "            # print(\"failed to move {}\".format(from_dir + name))\n",
    "            pass\n",
    "        # shutil.copyfile(fileDir+name, tarDir+name)\n",
    "    print(\"{} has copied to {}\".format(from_dir, to_dir))"
   ]
  },
  {
   "cell_type": "code",
   "execution_count": 8,
   "metadata": {},
   "outputs": [
    {
     "name": "stdout",
     "output_type": "stream",
     "text": [
      "E:/BJTU/Graduate/Final/vedio/images/Gaidong\\108500_json/label.png has copied to E:/BJTU/Graduate/Final/vedio/images/Gaidong\n",
      "E:/BJTU/Graduate/Final/vedio/images/Gaidong\\108872_json/label.png has copied to E:/BJTU/Graduate/Final/vedio/images/Gaidong\n",
      "E:/BJTU/Graduate/Final/vedio/images/Gaidong\\108996_json/label.png has copied to E:/BJTU/Graduate/Final/vedio/images/Gaidong\n",
      "E:/BJTU/Graduate/Final/vedio/images/Gaidong\\109120_json/label.png has copied to E:/BJTU/Graduate/Final/vedio/images/Gaidong\n",
      "E:/BJTU/Graduate/Final/vedio/images/Gaidong\\109368_json/label.png has copied to E:/BJTU/Graduate/Final/vedio/images/Gaidong\n",
      "E:/BJTU/Graduate/Final/vedio/images/Gaidong\\1240_json/label.png has copied to E:/BJTU/Graduate/Final/vedio/images/Gaidong\n",
      "E:/BJTU/Graduate/Final/vedio/images/Gaidong\\1488_json/label.png has copied to E:/BJTU/Graduate/Final/vedio/images/Gaidong\n",
      "E:/BJTU/Graduate/Final/vedio/images/Gaidong\\21948_json/label.png has copied to E:/BJTU/Graduate/Final/vedio/images/Gaidong\n",
      "E:/BJTU/Graduate/Final/vedio/images/Gaidong\\2604_json/label.png has copied to E:/BJTU/Graduate/Final/vedio/images/Gaidong\n",
      "E:/BJTU/Graduate/Final/vedio/images/Gaidong\\2976_json/label.png has copied to E:/BJTU/Graduate/Final/vedio/images/Gaidong\n",
      "E:/BJTU/Graduate/Final/vedio/images/Gaidong\\3100_json/label.png has copied to E:/BJTU/Graduate/Final/vedio/images/Gaidong\n",
      "E:/BJTU/Graduate/Final/vedio/images/Gaidong\\41540_json/label.png has copied to E:/BJTU/Graduate/Final/vedio/images/Gaidong\n",
      "E:/BJTU/Graduate/Final/vedio/images/Gaidong\\43524_json/label.png has copied to E:/BJTU/Graduate/Final/vedio/images/Gaidong\n",
      "E:/BJTU/Graduate/Final/vedio/images/Gaidong\\43648_json/label.png has copied to E:/BJTU/Graduate/Final/vedio/images/Gaidong\n",
      "E:/BJTU/Graduate/Final/vedio/images/Gaidong\\45384_json/label.png has copied to E:/BJTU/Graduate/Final/vedio/images/Gaidong\n",
      "E:/BJTU/Graduate/Final/vedio/images/Gaidong\\55180_json/label.png has copied to E:/BJTU/Graduate/Final/vedio/images/Gaidong\n",
      "E:/BJTU/Graduate/Final/vedio/images/Gaidong\\67456_json/label.png has copied to E:/BJTU/Graduate/Final/vedio/images/Gaidong\n",
      "E:/BJTU/Graduate/Final/vedio/images/Gaidong\\67580_json/label.png has copied to E:/BJTU/Graduate/Final/vedio/images/Gaidong\n",
      "E:/BJTU/Graduate/Final/vedio/images/Gaidong\\67704_json/label.png has copied to E:/BJTU/Graduate/Final/vedio/images/Gaidong\n",
      "E:/BJTU/Graduate/Final/vedio/images/Gaidong\\68200_json/label.png has copied to E:/BJTU/Graduate/Final/vedio/images/Gaidong\n",
      "E:/BJTU/Graduate/Final/vedio/images/Gaidong\\68944_json/label.png has copied to E:/BJTU/Graduate/Final/vedio/images/Gaidong\n",
      "E:/BJTU/Graduate/Final/vedio/images/Gaidong\\69440_json/label.png has copied to E:/BJTU/Graduate/Final/vedio/images/Gaidong\n",
      "E:/BJTU/Graduate/Final/vedio/images/Gaidong\\69564_json/label.png has copied to E:/BJTU/Graduate/Final/vedio/images/Gaidong\n",
      "E:/BJTU/Graduate/Final/vedio/images/Gaidong\\69688_json/label.png has copied to E:/BJTU/Graduate/Final/vedio/images/Gaidong\n",
      "E:/BJTU/Graduate/Final/vedio/images/Gaidong\\69812_json/label.png has copied to E:/BJTU/Graduate/Final/vedio/images/Gaidong\n",
      "E:/BJTU/Graduate/Final/vedio/images/Gaidong\\69936_json/label.png has copied to E:/BJTU/Graduate/Final/vedio/images/Gaidong\n",
      "E:/BJTU/Graduate/Final/vedio/images/Gaidong\\70432_json/label.png has copied to E:/BJTU/Graduate/Final/vedio/images/Gaidong\n",
      "E:/BJTU/Graduate/Final/vedio/images/Gaidong\\71424_json/label.png has copied to E:/BJTU/Graduate/Final/vedio/images/Gaidong\n",
      "E:/BJTU/Graduate/Final/vedio/images/Gaidong\\71548_json/label.png has copied to E:/BJTU/Graduate/Final/vedio/images/Gaidong\n",
      "E:/BJTU/Graduate/Final/vedio/images/Gaidong\\71672_json/label.png has copied to E:/BJTU/Graduate/Final/vedio/images/Gaidong\n",
      "E:/BJTU/Graduate/Final/vedio/images/Gaidong\\71796_json/label.png has copied to E:/BJTU/Graduate/Final/vedio/images/Gaidong\n",
      "E:/BJTU/Graduate/Final/vedio/images/Gaidong\\71920_json/label.png has copied to E:/BJTU/Graduate/Final/vedio/images/Gaidong\n",
      "E:/BJTU/Graduate/Final/vedio/images/Gaidong\\72044_json/label.png has copied to E:/BJTU/Graduate/Final/vedio/images/Gaidong\n",
      "E:/BJTU/Graduate/Final/vedio/images/Gaidong\\72168_json/label.png has copied to E:/BJTU/Graduate/Final/vedio/images/Gaidong\n",
      "E:/BJTU/Graduate/Final/vedio/images/Gaidong\\72912_json/label.png has copied to E:/BJTU/Graduate/Final/vedio/images/Gaidong\n",
      "E:/BJTU/Graduate/Final/vedio/images/Gaidong\\75020_json/label.png has copied to E:/BJTU/Graduate/Final/vedio/images/Gaidong\n",
      "E:/BJTU/Graduate/Final/vedio/images/Gaidong\\75144_json/label.png has copied to E:/BJTU/Graduate/Final/vedio/images/Gaidong\n",
      "E:/BJTU/Graduate/Final/vedio/images/Gaidong\\75516_json/label.png has copied to E:/BJTU/Graduate/Final/vedio/images/Gaidong\n",
      "E:/BJTU/Graduate/Final/vedio/images/Gaidong\\76136_json/label.png has copied to E:/BJTU/Graduate/Final/vedio/images/Gaidong\n",
      "E:/BJTU/Graduate/Final/vedio/images/Gaidong\\868_json/label.png has copied to E:/BJTU/Graduate/Final/vedio/images/Gaidong\n"
     ]
    }
   ],
   "source": [
    "if __name__ == '__main__':\n",
    "    filepath_list = os.listdir(GT_from_PATH)\n",
    "    # print(filepath_list)\n",
    "    for i, file_path in enumerate(filepath_list):\n",
    "        gt_path = \"{}/label.png\".format(os.path.join(GT_from_PATH, filepath_list[i]))\n",
    "        ##print(\"copy {} to ...\".format(gt_path))\n",
    "        gt_name = [\"{}.png\".format(file_path[:-5])]\n",
    "        #print(gt_name)\n",
    "        copy_file(gt_path, GT_to_PATH, gt_name)"
   ]
  },
  {
   "cell_type": "code",
   "execution_count": 5,
   "metadata": {},
   "outputs": [
    {
     "name": "stdout",
     "output_type": "stream",
     "text": [
      "E:/BJTU/Graduate/Final/vedio/images/Gaidong\\108500_json is not existed\n",
      "E:/BJTU/Graduate/Final/vedio/images/Gaidong\\108500_json has copied to E:/BJTU/Graduate/Final/vedio/images/Gaidong\n",
      "E:/BJTU/Graduate/Final/vedio/images/Gaidong\\108872_json is not existed\n",
      "E:/BJTU/Graduate/Final/vedio/images/Gaidong\\108872_json has copied to E:/BJTU/Graduate/Final/vedio/images/Gaidong\n",
      "E:/BJTU/Graduate/Final/vedio/images/Gaidong\\108996_json is not existed\n",
      "E:/BJTU/Graduate/Final/vedio/images/Gaidong\\108996_json has copied to E:/BJTU/Graduate/Final/vedio/images/Gaidong\n",
      "E:/BJTU/Graduate/Final/vedio/images/Gaidong\\109120_json is not existed\n",
      "E:/BJTU/Graduate/Final/vedio/images/Gaidong\\109120_json has copied to E:/BJTU/Graduate/Final/vedio/images/Gaidong\n",
      "E:/BJTU/Graduate/Final/vedio/images/Gaidong\\109368_json is not existed\n",
      "E:/BJTU/Graduate/Final/vedio/images/Gaidong\\109368_json has copied to E:/BJTU/Graduate/Final/vedio/images/Gaidong\n",
      "E:/BJTU/Graduate/Final/vedio/images/Gaidong\\1240_json is not existed\n",
      "E:/BJTU/Graduate/Final/vedio/images/Gaidong\\1240_json has copied to E:/BJTU/Graduate/Final/vedio/images/Gaidong\n",
      "E:/BJTU/Graduate/Final/vedio/images/Gaidong\\1488_json is not existed\n",
      "E:/BJTU/Graduate/Final/vedio/images/Gaidong\\1488_json has copied to E:/BJTU/Graduate/Final/vedio/images/Gaidong\n",
      "E:/BJTU/Graduate/Final/vedio/images/Gaidong\\21948_json is not existed\n",
      "E:/BJTU/Graduate/Final/vedio/images/Gaidong\\21948_json has copied to E:/BJTU/Graduate/Final/vedio/images/Gaidong\n",
      "E:/BJTU/Graduate/Final/vedio/images/Gaidong\\2604_json is not existed\n",
      "E:/BJTU/Graduate/Final/vedio/images/Gaidong\\2604_json has copied to E:/BJTU/Graduate/Final/vedio/images/Gaidong\n",
      "E:/BJTU/Graduate/Final/vedio/images/Gaidong\\2976_json is not existed\n",
      "E:/BJTU/Graduate/Final/vedio/images/Gaidong\\2976_json has copied to E:/BJTU/Graduate/Final/vedio/images/Gaidong\n",
      "E:/BJTU/Graduate/Final/vedio/images/Gaidong\\3100_json is not existed\n",
      "E:/BJTU/Graduate/Final/vedio/images/Gaidong\\3100_json has copied to E:/BJTU/Graduate/Final/vedio/images/Gaidong\n",
      "E:/BJTU/Graduate/Final/vedio/images/Gaidong\\41540_json is not existed\n",
      "E:/BJTU/Graduate/Final/vedio/images/Gaidong\\41540_json has copied to E:/BJTU/Graduate/Final/vedio/images/Gaidong\n",
      "E:/BJTU/Graduate/Final/vedio/images/Gaidong\\43524_json is not existed\n",
      "E:/BJTU/Graduate/Final/vedio/images/Gaidong\\43524_json has copied to E:/BJTU/Graduate/Final/vedio/images/Gaidong\n",
      "E:/BJTU/Graduate/Final/vedio/images/Gaidong\\43648_json is not existed\n",
      "E:/BJTU/Graduate/Final/vedio/images/Gaidong\\43648_json has copied to E:/BJTU/Graduate/Final/vedio/images/Gaidong\n",
      "E:/BJTU/Graduate/Final/vedio/images/Gaidong\\45384_json is not existed\n",
      "E:/BJTU/Graduate/Final/vedio/images/Gaidong\\45384_json has copied to E:/BJTU/Graduate/Final/vedio/images/Gaidong\n",
      "E:/BJTU/Graduate/Final/vedio/images/Gaidong\\55180_json is not existed\n",
      "E:/BJTU/Graduate/Final/vedio/images/Gaidong\\55180_json has copied to E:/BJTU/Graduate/Final/vedio/images/Gaidong\n",
      "E:/BJTU/Graduate/Final/vedio/images/Gaidong\\67456_json is not existed\n",
      "E:/BJTU/Graduate/Final/vedio/images/Gaidong\\67456_json has copied to E:/BJTU/Graduate/Final/vedio/images/Gaidong\n",
      "E:/BJTU/Graduate/Final/vedio/images/Gaidong\\67580_json is not existed\n",
      "E:/BJTU/Graduate/Final/vedio/images/Gaidong\\67580_json has copied to E:/BJTU/Graduate/Final/vedio/images/Gaidong\n",
      "E:/BJTU/Graduate/Final/vedio/images/Gaidong\\67704_json is not existed\n",
      "E:/BJTU/Graduate/Final/vedio/images/Gaidong\\67704_json has copied to E:/BJTU/Graduate/Final/vedio/images/Gaidong\n",
      "E:/BJTU/Graduate/Final/vedio/images/Gaidong\\68200_json is not existed\n",
      "E:/BJTU/Graduate/Final/vedio/images/Gaidong\\68200_json has copied to E:/BJTU/Graduate/Final/vedio/images/Gaidong\n",
      "E:/BJTU/Graduate/Final/vedio/images/Gaidong\\68944_json is not existed\n",
      "E:/BJTU/Graduate/Final/vedio/images/Gaidong\\68944_json has copied to E:/BJTU/Graduate/Final/vedio/images/Gaidong\n",
      "E:/BJTU/Graduate/Final/vedio/images/Gaidong\\69440_json is not existed\n",
      "E:/BJTU/Graduate/Final/vedio/images/Gaidong\\69440_json has copied to E:/BJTU/Graduate/Final/vedio/images/Gaidong\n",
      "E:/BJTU/Graduate/Final/vedio/images/Gaidong\\69564_json is not existed\n",
      "E:/BJTU/Graduate/Final/vedio/images/Gaidong\\69564_json has copied to E:/BJTU/Graduate/Final/vedio/images/Gaidong\n",
      "E:/BJTU/Graduate/Final/vedio/images/Gaidong\\69688_json is not existed\n",
      "E:/BJTU/Graduate/Final/vedio/images/Gaidong\\69688_json has copied to E:/BJTU/Graduate/Final/vedio/images/Gaidong\n",
      "E:/BJTU/Graduate/Final/vedio/images/Gaidong\\69812_json is not existed\n",
      "E:/BJTU/Graduate/Final/vedio/images/Gaidong\\69812_json has copied to E:/BJTU/Graduate/Final/vedio/images/Gaidong\n",
      "E:/BJTU/Graduate/Final/vedio/images/Gaidong\\69936_json is not existed\n",
      "E:/BJTU/Graduate/Final/vedio/images/Gaidong\\69936_json has copied to E:/BJTU/Graduate/Final/vedio/images/Gaidong\n",
      "E:/BJTU/Graduate/Final/vedio/images/Gaidong\\70432_json is not existed\n",
      "E:/BJTU/Graduate/Final/vedio/images/Gaidong\\70432_json has copied to E:/BJTU/Graduate/Final/vedio/images/Gaidong\n",
      "E:/BJTU/Graduate/Final/vedio/images/Gaidong\\71424_json is not existed\n",
      "E:/BJTU/Graduate/Final/vedio/images/Gaidong\\71424_json has copied to E:/BJTU/Graduate/Final/vedio/images/Gaidong\n",
      "E:/BJTU/Graduate/Final/vedio/images/Gaidong\\71548_json is not existed\n",
      "E:/BJTU/Graduate/Final/vedio/images/Gaidong\\71548_json has copied to E:/BJTU/Graduate/Final/vedio/images/Gaidong\n",
      "E:/BJTU/Graduate/Final/vedio/images/Gaidong\\71672_json is not existed\n",
      "E:/BJTU/Graduate/Final/vedio/images/Gaidong\\71672_json has copied to E:/BJTU/Graduate/Final/vedio/images/Gaidong\n",
      "E:/BJTU/Graduate/Final/vedio/images/Gaidong\\71796_json is not existed\n",
      "E:/BJTU/Graduate/Final/vedio/images/Gaidong\\71796_json has copied to E:/BJTU/Graduate/Final/vedio/images/Gaidong\n",
      "E:/BJTU/Graduate/Final/vedio/images/Gaidong\\71920_json is not existed\n",
      "E:/BJTU/Graduate/Final/vedio/images/Gaidong\\71920_json has copied to E:/BJTU/Graduate/Final/vedio/images/Gaidong\n",
      "E:/BJTU/Graduate/Final/vedio/images/Gaidong\\72044_json is not existed\n",
      "E:/BJTU/Graduate/Final/vedio/images/Gaidong\\72044_json has copied to E:/BJTU/Graduate/Final/vedio/images/Gaidong\n",
      "E:/BJTU/Graduate/Final/vedio/images/Gaidong\\72168_json is not existed\n",
      "E:/BJTU/Graduate/Final/vedio/images/Gaidong\\72168_json has copied to E:/BJTU/Graduate/Final/vedio/images/Gaidong\n",
      "E:/BJTU/Graduate/Final/vedio/images/Gaidong\\72912_json is not existed\n",
      "E:/BJTU/Graduate/Final/vedio/images/Gaidong\\72912_json has copied to E:/BJTU/Graduate/Final/vedio/images/Gaidong\n",
      "E:/BJTU/Graduate/Final/vedio/images/Gaidong\\75020_json is not existed\n",
      "E:/BJTU/Graduate/Final/vedio/images/Gaidong\\75020_json has copied to E:/BJTU/Graduate/Final/vedio/images/Gaidong\n",
      "E:/BJTU/Graduate/Final/vedio/images/Gaidong\\75144_json is not existed\n",
      "E:/BJTU/Graduate/Final/vedio/images/Gaidong\\75144_json has copied to E:/BJTU/Graduate/Final/vedio/images/Gaidong\n",
      "E:/BJTU/Graduate/Final/vedio/images/Gaidong\\75516_json is not existed\n",
      "E:/BJTU/Graduate/Final/vedio/images/Gaidong\\75516_json has copied to E:/BJTU/Graduate/Final/vedio/images/Gaidong\n",
      "E:/BJTU/Graduate/Final/vedio/images/Gaidong\\76136_json is not existed\n",
      "E:/BJTU/Graduate/Final/vedio/images/Gaidong\\76136_json has copied to E:/BJTU/Graduate/Final/vedio/images/Gaidong\n",
      "E:/BJTU/Graduate/Final/vedio/images/Gaidong\\868_json is not existed\n",
      "E:/BJTU/Graduate/Final/vedio/images/Gaidong\\868_json has copied to E:/BJTU/Graduate/Final/vedio/images/Gaidong\n"
     ]
    }
   ],
   "source": [
    "##给bdd改下名字的\n",
    "if __name__ == '__main__':\n",
    "    filepath_list = os.listdir(GT_from_PATH)\n",
    "    # print(filepath_list)\n",
    "    for i, file_path in enumerate(filepath_list):\n",
    "        gt_path = \"{}\".format(os.path.join(GT_from_PATH, filepath_list[i]))\n",
    "        ##print(\"copy {} to ...\".format(gt_path))\n",
    "        gt_name = [\"{}.png\".format(file_path[:-19])]\n",
    "        #print(gt_name)\n",
    "        copy_file(gt_path, GT_to_PATH, gt_name)"
   ]
  }
 ],
 "metadata": {
  "kernelspec": {
   "display_name": "Python 3",
   "language": "python",
   "name": "python3"
  },
  "language_info": {
   "codemirror_mode": {
    "name": "ipython",
    "version": 3
   },
   "file_extension": ".py",
   "mimetype": "text/x-python",
   "name": "python",
   "nbconvert_exporter": "python",
   "pygments_lexer": "ipython3",
   "version": "3.7.4"
  }
 },
 "nbformat": 4,
 "nbformat_minor": 2
}
