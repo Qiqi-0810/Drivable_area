{
 "cells": [
  {
   "cell_type": "code",
   "execution_count": null,
   "metadata": {
    "scrolled": true
   },
   "outputs": [],
   "source": [
    "#modified from https://blog.csdn.net/shuiyixin/article/details/90488014\n",
    "import os\n",
    "import random\n",
    "import shutil\n",
    "import re\n",
    "GT_from_PATH = \"E:/\"###\n",
    "GT_to_PATH = \"E:/\"\n",
    "def copy_file(from_dir, to_dir, Name_list):\n",
    "    if not os.path.isdir(to_dir):\n",
    "        os.mkdir(to_dir)\n",
    "    for name in Name_list:\n",
    "        try:\n",
    "            if not os.path.isfile(os.path.join(from_dir)):\n",
    "                print(\"{} is not existed\".format(os.path.join(from_dir)))\n",
    "            shutil.copy(os.path.join(from_dir), os.path.join(to_dir, name))\n",
    "        except:\n",
    "            pass\n",
    "    print(\"{} has copied to {}\".format(from_dir, to_dir))\n",
    "if __name__ == '__main__':\n",
    "    filepath_list = os.listdir(GT_from_PATH)\n",
    "    for i, file_path in enumerate(filepath_list):\n",
    "        gt_path = \"{}/label.png\".format(os.path.join(GT_from_PATH, filepath_list[i]))\n",
    "        gt_name = [\"{}.png\".format(file_path[:-5])]\n",
    "        copy_file(gt_path, GT_to_PATH, gt_name)"
   ]
  },
  {
   "cell_type": "code",
   "execution_count": null,
   "metadata": {},
   "outputs": [],
   "source": [
    "##it also could be used to change name in batch\n",
    "if __name__ == '__main__':\n",
    "    filepath_list = os.listdir(GT_from_PATH)\n",
    "    # print(filepath_list)\n",
    "    for i, file_path in enumerate(filepath_list):\n",
    "        gt_path = \"{}\".format(os.path.join(GT_from_PATH, filepath_list[i]))\n",
    "        ##print(\"copy {} to ...\".format(gt_path))\n",
    "        gt_name = [\"{}.png\".format(file_path[:-16])]\n",
    "        #print(gt_name)\n",
    "        copy_file(gt_path, GT_to_PATH, gt_name)"
   ]
  },
  {
   "cell_type": "code",
   "execution_count": null,
   "metadata": {},
   "outputs": [],
   "source": []
  }
 ],
 "metadata": {
  "kernelspec": {
   "display_name": "Python 3",
   "language": "python",
   "name": "python3"
  },
  "language_info": {
   "codemirror_mode": {
    "name": "ipython",
    "version": 3
   },
   "file_extension": ".py",
   "mimetype": "text/x-python",
   "name": "python",
   "nbconvert_exporter": "python",
   "pygments_lexer": "ipython3",
   "version": "3.7.4"
  }
 },
 "nbformat": 4,
 "nbformat_minor": 2
}
