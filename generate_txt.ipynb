{
 "cells": [
  {
   "cell_type": "code",
   "execution_count": null,
   "metadata": {},
   "outputs": [],
   "source": [
    "import cv2\n",
    "import numpy as np\n",
    "import os\n",
    "import sys\n",
    "import pickle\n",
    "data_dir = \"E:/\"\n",
    "def my_mkdir(my_dir):\n",
    "    if not os.path.isdir(my_dir):\n",
    "        os.makedirs(my_dir)\n",
    "if __name__ == '__main__':\n",
    "    data_path = os.path.join(data_dir, \"Structured\")  \n",
    "    print(data_path + \" is loading...\")\n",
    " \n",
    "    datatraint = os.path.join(data_dir, \"Structured_val.txt\")\n",
    "    ft = open(datatraint, 'w')\n",
    "    print(data_path)\n",
    "    img_list = os.listdir(data_path)\n",
    "    print(img_list)\n",
    "    for i in range(len(img_list)):\n",
    "        if not img_list[i].endswith('jpg'): #extract png or jpg or other files\n",
    "            continue\n",
    "        img_path = os.path.join(data_path, img_list[i])\n",
    "        line = img_path + '\\n'\n",
    "        ft.write(line)\n",
    "    ft.close()   \n",
    "    print(data_path + \" loaded.\")"
   ]
  },
  {
   "cell_type": "code",
   "execution_count": null,
   "metadata": {},
   "outputs": [],
   "source": []
  }
 ],
 "metadata": {
  "kernelspec": {
   "display_name": "Python 3",
   "language": "python",
   "name": "python3"
  },
  "language_info": {
   "codemirror_mode": {
    "name": "ipython",
    "version": 3
   },
   "file_extension": ".py",
   "mimetype": "text/x-python",
   "name": "python",
   "nbconvert_exporter": "python",
   "pygments_lexer": "ipython3",
   "version": "3.7.4"
  }
 },
 "nbformat": 4,
 "nbformat_minor": 2
}
