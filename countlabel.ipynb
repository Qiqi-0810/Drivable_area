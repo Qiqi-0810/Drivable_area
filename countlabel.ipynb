{
 "cells": [
  {
   "cell_type": "code",
   "execution_count": null,
   "metadata": {},
   "outputs": [],
   "source": [
    "# modified from https://blog.csdn.net/fanzonghao/article/details/85263553?utm_medium=distribute.pc_relevant.none-task-blog-2%7Edefault%7EBlogCommendFromMachineLearnPai2%7Edefault-3.control&dist_request_id=&depth_1-utm_source=distribute.pc_relevant.none-task-blog-2%7Edefault%7EBlogCommendFromMachineLearnPai2%7Edefault-3.control\n",
    "from __future__ import print_function\n",
    "import os\n",
    "import numpy as np\n",
    "import cv2\n",
    "w,h=1280,720\n",
    "def find_pic(img,array_list,n_class,pixs):\n",
    "    img_sum = np.sum(img == array_list, axis=-1)\n",
    "    pix_numbers=img_sum.reshape(-1).tolist().count(3)\n",
    "    if pix_numbers:\n",
    "        pixs+=pix_numbers\n",
    "        n_class+=1\n",
    "    return pixs,n_class\n",
    "def compute_class(pixs,n_class):\n",
    "    return pixs/(n_class*w*h)\n",
    "def frequence():\n",
    "    images_path = 'E:/'\n",
    "    red = np.array([0, 0, 255])\n",
    "    blue = np.array([255, 0, 0])\n",
    "    back_gro = np.array([0, 0, 0])\n",
    "    images_list_path = [os.path.join(images_path,i) for i in os.listdir(images_path)]\n",
    "    n_red=0\n",
    "    red_pixs=0\n",
    "    n_blue = 0\n",
    "    blue_pixs = 0\n",
    "    n_back = 0\n",
    "    back_pixs = 0\n",
    "    for count,image_path in enumerate(images_list_path):\n",
    "        img=cv2.imread(image_path)\n",
    "        red_pixs, n_red=find_pic(img,red,n_red,red_pixs)\n",
    "        blue_pixs,n_blue = find_pic(img, blue,n_blue,blue_pixs)\n",
    "        back_pixs,n_back = find_pic(img, back_gro,n_back,back_pixs)\n",
    "    print(\"red_pixs, n_red\", red_pixs, n_red)\n",
    "    print(\"blue_pixs, n_blue\",blue_pixs, n_blue)\n",
    "    print(\"back_pixs, n_back\", back_pixs, n_back)\n",
    "    f_class_red=compute_class(red_pixs,n_red)\n",
    "    f_class_blue = compute_class(blue_pixs, n_blue)\n",
    "    f_class_back = compute_class(back_pixs, n_back)\n",
    "    print(\"f_class_red,f_class_blue,f_class_back\", f_class_red,f_class_blue,f_class_back)\n",
    "    f_class=[f_class_red,f_class_blue,f_class_back]\n",
    "    f_class_median=np.median(np.array(f_class))\n",
    "    print(\"f_class_median\", f_class_median)\n",
    "    print(\"f_class_median/np.array(f_class)\", f_class_median/np.array(f_class))\n",
    "if __name__ == '__main__':\n",
    "    frequence()"
   ]
  },
  {
   "cell_type": "code",
   "execution_count": null,
   "metadata": {},
   "outputs": [],
   "source": []
  }
 ],
 "metadata": {
  "kernelspec": {
   "display_name": "Python 3",
   "language": "python",
   "name": "python3"
  },
  "language_info": {
   "codemirror_mode": {
    "name": "ipython",
    "version": 3
   },
   "file_extension": ".py",
   "mimetype": "text/x-python",
   "name": "python",
   "nbconvert_exporter": "python",
   "pygments_lexer": "ipython3",
   "version": "3.7.4"
  }
 },
 "nbformat": 4,
 "nbformat_minor": 2
}
